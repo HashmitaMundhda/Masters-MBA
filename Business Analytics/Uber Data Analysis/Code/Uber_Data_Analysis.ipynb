{
 "cells": [
  {
   "cell_type": "markdown",
   "id": "37acc4ce-4a25-4bfb-b5cd-98140602a549",
   "metadata": {},
   "source": [
    "## Topic: Uber data analysis¶\n",
    "#### Author: Hashmita Mundhda\n",
    "#### Programming language: Python3"
   ]
  },
  {
   "cell_type": "code",
   "execution_count": 1,
   "id": "1ff30a6c-d82a-430d-a39c-a26fbf9283ba",
   "metadata": {},
   "outputs": [],
   "source": [
    "import pandas as pd\n",
    "import numpy as np\n",
    "import seaborn as sns\n",
    "import matplotlib.pyplot as plt\n",
    "import warnings\n",
    "warnings.filterwarnings('ignore')"
   ]
  },
  {
   "cell_type": "code",
   "execution_count": 2,
   "id": "85c8b4ca-9861-4e83-96b3-ac70695e828a",
   "metadata": {},
   "outputs": [],
   "source": [
    "#read the data \n",
    "df = pd.read_csv('./Downloads/Uber_data_analysis/Uber_request_data.csv')"
   ]
  },
  {
   "cell_type": "code",
   "execution_count": 3,
   "id": "3fc4ce9f-74d1-4870-86e4-e5ee4cff4c30",
   "metadata": {},
   "outputs": [
    {
     "data": {
      "text/html": [
       "<div>\n",
       "<style scoped>\n",
       "    .dataframe tbody tr th:only-of-type {\n",
       "        vertical-align: middle;\n",
       "    }\n",
       "\n",
       "    .dataframe tbody tr th {\n",
       "        vertical-align: top;\n",
       "    }\n",
       "\n",
       "    .dataframe thead th {\n",
       "        text-align: right;\n",
       "    }\n",
       "</style>\n",
       "<table border=\"1\" class=\"dataframe\">\n",
       "  <thead>\n",
       "    <tr style=\"text-align: right;\">\n",
       "      <th></th>\n",
       "      <th>Request id</th>\n",
       "      <th>Pickup point</th>\n",
       "      <th>Driver id</th>\n",
       "      <th>Status</th>\n",
       "      <th>Request timestamp</th>\n",
       "      <th>Drop timestamp</th>\n",
       "    </tr>\n",
       "  </thead>\n",
       "  <tbody>\n",
       "    <tr>\n",
       "      <th>0</th>\n",
       "      <td>619</td>\n",
       "      <td>Airport</td>\n",
       "      <td>1.0</td>\n",
       "      <td>Trip Completed</td>\n",
       "      <td>11/7/2016 11:51</td>\n",
       "      <td>11/7/2016 13:00</td>\n",
       "    </tr>\n",
       "    <tr>\n",
       "      <th>1</th>\n",
       "      <td>867</td>\n",
       "      <td>Airport</td>\n",
       "      <td>1.0</td>\n",
       "      <td>Trip Completed</td>\n",
       "      <td>11/7/2016 17:57</td>\n",
       "      <td>11/7/2016 18:47</td>\n",
       "    </tr>\n",
       "    <tr>\n",
       "      <th>2</th>\n",
       "      <td>1807</td>\n",
       "      <td>City</td>\n",
       "      <td>1.0</td>\n",
       "      <td>Trip Completed</td>\n",
       "      <td>12/7/2016 9:17</td>\n",
       "      <td>12/7/2016 9:58</td>\n",
       "    </tr>\n",
       "    <tr>\n",
       "      <th>3</th>\n",
       "      <td>2532</td>\n",
       "      <td>Airport</td>\n",
       "      <td>1.0</td>\n",
       "      <td>Trip Completed</td>\n",
       "      <td>12/7/2016 21:08</td>\n",
       "      <td>12/7/2016 22:03</td>\n",
       "    </tr>\n",
       "    <tr>\n",
       "      <th>4</th>\n",
       "      <td>3112</td>\n",
       "      <td>City</td>\n",
       "      <td>1.0</td>\n",
       "      <td>Trip Completed</td>\n",
       "      <td>13-07-2016 08:33:16</td>\n",
       "      <td>13-07-2016 09:25:47</td>\n",
       "    </tr>\n",
       "  </tbody>\n",
       "</table>\n",
       "</div>"
      ],
      "text/plain": [
       "   Request id Pickup point  Driver id          Status    Request timestamp  \\\n",
       "0         619      Airport        1.0  Trip Completed      11/7/2016 11:51   \n",
       "1         867      Airport        1.0  Trip Completed      11/7/2016 17:57   \n",
       "2        1807         City        1.0  Trip Completed       12/7/2016 9:17   \n",
       "3        2532      Airport        1.0  Trip Completed      12/7/2016 21:08   \n",
       "4        3112         City        1.0  Trip Completed  13-07-2016 08:33:16   \n",
       "\n",
       "        Drop timestamp  \n",
       "0      11/7/2016 13:00  \n",
       "1      11/7/2016 18:47  \n",
       "2       12/7/2016 9:58  \n",
       "3      12/7/2016 22:03  \n",
       "4  13-07-2016 09:25:47  "
      ]
     },
     "execution_count": 3,
     "metadata": {},
     "output_type": "execute_result"
    }
   ],
   "source": [
    "df.head()"
   ]
  },
  {
   "cell_type": "code",
   "execution_count": 4,
   "id": "821da262-e404-4ad6-908e-9d2e716acaee",
   "metadata": {},
   "outputs": [
    {
     "name": "stdout",
     "output_type": "stream",
     "text": [
      "<class 'pandas.core.frame.DataFrame'>\n",
      "RangeIndex: 6745 entries, 0 to 6744\n",
      "Data columns (total 6 columns):\n",
      " #   Column             Non-Null Count  Dtype  \n",
      "---  ------             --------------  -----  \n",
      " 0   Request id         6745 non-null   int64  \n",
      " 1   Pickup point       6745 non-null   object \n",
      " 2   Driver id          4095 non-null   float64\n",
      " 3   Status             6745 non-null   object \n",
      " 4   Request timestamp  6745 non-null   object \n",
      " 5   Drop timestamp     2831 non-null   object \n",
      "dtypes: float64(1), int64(1), object(4)\n",
      "memory usage: 316.3+ KB\n"
     ]
    }
   ],
   "source": [
    "#describe the dataset\n",
    "df.info()"
   ]
  },
  {
   "cell_type": "markdown",
   "id": "30143241-e8c8-4171-b864-cf9d65800d58",
   "metadata": {},
   "source": [
    "#### Cleaning & Transformation Dataset"
   ]
  },
  {
   "cell_type": "code",
   "execution_count": 5,
   "id": "a20e1c4b-5edd-46b3-b5fe-0e2ac9406c92",
   "metadata": {},
   "outputs": [
    {
     "data": {
      "text/plain": [
       "Index(['Request id', 'Pickup point', 'Driver id', 'Status',\n",
       "       'Request timestamp', 'Drop timestamp'],\n",
       "      dtype='object')"
      ]
     },
     "execution_count": 5,
     "metadata": {},
     "output_type": "execute_result"
    }
   ],
   "source": [
    "#Checking out columns\n",
    "df.columns"
   ]
  },
  {
   "cell_type": "code",
   "execution_count": 6,
   "id": "ea29cd67-99d5-4089-8e21-a4c8ddaec352",
   "metadata": {},
   "outputs": [],
   "source": [
    "#Bringing consistency to data columns\n",
    "df.columns = df.columns.str.lower().str.replace(\" \", \"_\")"
   ]
  },
  {
   "cell_type": "code",
   "execution_count": 7,
   "id": "50811c82-a521-4538-8f58-d2a312550950",
   "metadata": {},
   "outputs": [
    {
     "name": "stdout",
     "output_type": "stream",
     "text": [
      "(6745, 6)\n",
      "\n",
      "*********************************\n",
      "             count         mean          std  min     25%     50%     75%  \\\n",
      "request_id  6745.0  3384.644922  1955.099667  1.0  1691.0  3387.0  5080.0   \n",
      "driver_id   4095.0   149.501343    86.051994  1.0    75.0   149.0   224.0   \n",
      "\n",
      "               max  \n",
      "request_id  6766.0  \n",
      "driver_id    300.0  \n",
      "\n",
      " *********************************\n",
      "<class 'pandas.core.frame.DataFrame'>\n",
      "RangeIndex: 6745 entries, 0 to 6744\n",
      "Data columns (total 6 columns):\n",
      " #   Column             Non-Null Count  Dtype  \n",
      "---  ------             --------------  -----  \n",
      " 0   request_id         6745 non-null   int64  \n",
      " 1   pickup_point       6745 non-null   object \n",
      " 2   driver_id          4095 non-null   float64\n",
      " 3   status             6745 non-null   object \n",
      " 4   request_timestamp  6745 non-null   object \n",
      " 5   drop_timestamp     2831 non-null   object \n",
      "dtypes: float64(1), int64(1), object(4)\n",
      "memory usage: 316.3+ KB\n",
      "None\n"
     ]
    }
   ],
   "source": [
    "#Learning about data\n",
    "def data_info(df):\n",
    "  print(df.shape)\n",
    "  print('\\n*********************************')\n",
    "  print(df.describe().transpose())\n",
    "  print('\\n *********************************')\n",
    "  print(df.info())\n",
    "\n",
    "data_info(df)"
   ]
  },
  {
   "cell_type": "code",
   "execution_count": 8,
   "id": "3bced222-fd21-4a05-b255-41b6b552218c",
   "metadata": {},
   "outputs": [
    {
     "data": {
      "text/html": [
       "<div>\n",
       "<style scoped>\n",
       "    .dataframe tbody tr th:only-of-type {\n",
       "        vertical-align: middle;\n",
       "    }\n",
       "\n",
       "    .dataframe tbody tr th {\n",
       "        vertical-align: top;\n",
       "    }\n",
       "\n",
       "    .dataframe thead th {\n",
       "        text-align: right;\n",
       "    }\n",
       "</style>\n",
       "<table border=\"1\" class=\"dataframe\">\n",
       "  <thead>\n",
       "    <tr style=\"text-align: right;\">\n",
       "      <th></th>\n",
       "      <th>count</th>\n",
       "      <th>unique</th>\n",
       "      <th>top</th>\n",
       "      <th>freq</th>\n",
       "    </tr>\n",
       "  </thead>\n",
       "  <tbody>\n",
       "    <tr>\n",
       "      <th>pickup_point</th>\n",
       "      <td>6745</td>\n",
       "      <td>2</td>\n",
       "      <td>City</td>\n",
       "      <td>3507</td>\n",
       "    </tr>\n",
       "    <tr>\n",
       "      <th>status</th>\n",
       "      <td>6745</td>\n",
       "      <td>3</td>\n",
       "      <td>Trip Completed</td>\n",
       "      <td>2831</td>\n",
       "    </tr>\n",
       "    <tr>\n",
       "      <th>request_timestamp</th>\n",
       "      <td>6745</td>\n",
       "      <td>5618</td>\n",
       "      <td>11/7/2016 19:02</td>\n",
       "      <td>6</td>\n",
       "    </tr>\n",
       "    <tr>\n",
       "      <th>drop_timestamp</th>\n",
       "      <td>2831</td>\n",
       "      <td>2598</td>\n",
       "      <td>11/7/2016 13:00</td>\n",
       "      <td>4</td>\n",
       "    </tr>\n",
       "  </tbody>\n",
       "</table>\n",
       "</div>"
      ],
      "text/plain": [
       "                  count unique              top  freq\n",
       "pickup_point       6745      2             City  3507\n",
       "status             6745      3   Trip Completed  2831\n",
       "request_timestamp  6745   5618  11/7/2016 19:02     6\n",
       "drop_timestamp     2831   2598  11/7/2016 13:00     4"
      ]
     },
     "execution_count": 8,
     "metadata": {},
     "output_type": "execute_result"
    }
   ],
   "source": [
    "# Looking deeper into data entries to find inconsistency\n",
    "\n",
    "objects = df.dtypes[df.dtypes == \"object\"].index\n",
    "df[objects].describe().transpose()"
   ]
  },
  {
   "cell_type": "code",
   "execution_count": 9,
   "id": "8c9658e2-ba20-4009-b790-d325612474e1",
   "metadata": {},
   "outputs": [
    {
     "name": "stdout",
     "output_type": "stream",
     "text": [
      "Index(['request_id', 'pickup_point', 'driver_id', 'status',\n",
      "       'request_timestamp', 'drop_timestamp'],\n",
      "      dtype='object')\n",
      "\n",
      "*********************************\n",
      "['Airport' 'City']\n",
      "\n",
      " *********************************\n",
      "['Trip Completed' 'Cancelled' 'No Cars Available']\n"
     ]
    }
   ],
   "source": [
    "#Learning about data unique values\n",
    "def unique_info(df):\n",
    "  print(df.columns.unique())\n",
    "  print('\\n*********************************')\n",
    "  print(df.pickup_point.unique())\n",
    "  print('\\n *********************************')\n",
    "  print(df.status.unique())\n",
    "\n",
    "unique_info(df)"
   ]
  },
  {
   "cell_type": "code",
   "execution_count": 10,
   "id": "9352c4b3-6068-4544-b036-0ad072c34313",
   "metadata": {},
   "outputs": [
    {
     "name": "stdout",
     "output_type": "stream",
     "text": [
      "Pick up point: False\n",
      "Status: False\n",
      "Driver Id: True\n",
      "Request Id: False\n",
      "Drop timestamp: True\n",
      "Request Tiestamp: False\n",
      "********************\n",
      "request_id              0\n",
      "pickup_point            0\n",
      "driver_id            2650\n",
      "status                  0\n",
      "request_timestamp       0\n",
      "drop_timestamp       3914\n",
      "dtype: int64\n"
     ]
    }
   ],
   "source": [
    "#Checking for null values\n",
    "def null_values(df):\n",
    "    print(\"Pick up point:\", df['pickup_point'].isnull().values.any())\n",
    "    print(\"Status:\", df['status'].isnull().values.any())\n",
    "    print(\"Driver Id:\", df['driver_id'].isnull().values.any())\n",
    "    print(\"Request Id:\",df['request_id'].isnull().values.any())\n",
    "    print(\"Drop timestamp:\", df['drop_timestamp'].isnull().values.any())\n",
    "    print(\"Request Tiestamp:\", df['request_timestamp'].isnull().values.any())\n",
    "    print(\"********************\")\n",
    "    print(df.isnull().sum())\n",
    "    \n",
    "\n",
    "null_values(df)"
   ]
  },
  {
   "cell_type": "code",
   "execution_count": 11,
   "id": "d8e59f4b-024e-4447-954b-95011140a2e7",
   "metadata": {},
   "outputs": [],
   "source": [
    "# Replacing NAN values\n",
    "df['driver_id'].fillna('Unknown', inplace = True)"
   ]
  },
  {
   "cell_type": "code",
   "execution_count": 12,
   "id": "2521fbfe-c1e0-422f-8b0c-ee17de1c282a",
   "metadata": {},
   "outputs": [
    {
     "name": "stdout",
     "output_type": "stream",
     "text": [
      "<class 'pandas.core.frame.DataFrame'>\n",
      "RangeIndex: 6745 entries, 0 to 6744\n",
      "Data columns (total 6 columns):\n",
      " #   Column             Non-Null Count  Dtype \n",
      "---  ------             --------------  ----- \n",
      " 0   request_id         6745 non-null   int64 \n",
      " 1   pickup_point       6745 non-null   object\n",
      " 2   driver_id          6745 non-null   object\n",
      " 3   status             6745 non-null   object\n",
      " 4   request_timestamp  6745 non-null   object\n",
      " 5   drop_timestamp     2831 non-null   object\n",
      "dtypes: int64(1), object(5)\n",
      "memory usage: 316.3+ KB\n"
     ]
    }
   ],
   "source": [
    "#describe the dataset\n",
    "df.info()"
   ]
  },
  {
   "cell_type": "code",
   "execution_count": 13,
   "id": "2c990a36-08f7-4e42-85d8-53d64b885744",
   "metadata": {},
   "outputs": [],
   "source": [
    "df['request_timestamp'] = pd.to_datetime(df['request_timestamp'], format='mixed')\n",
    "df['drop_timestamp'] = pd.to_datetime(df['drop_timestamp'], format='mixed')"
   ]
  },
  {
   "cell_type": "code",
   "execution_count": 14,
   "id": "b1030708-8381-4a9f-90fd-8ffbcbc78729",
   "metadata": {},
   "outputs": [
    {
     "name": "stdout",
     "output_type": "stream",
     "text": [
      "There are 6745 unique request ids\n"
     ]
    }
   ],
   "source": [
    "print('There are '+str(len(df['request_id'].unique()))+' unique request ids')"
   ]
  },
  {
   "cell_type": "code",
   "execution_count": 15,
   "id": "308cd33b-e079-4610-a1dd-aaf18e0f1350",
   "metadata": {},
   "outputs": [],
   "source": [
    "#request id is of no use for the analysis, lets remove this column\n",
    "df.drop('request_id',axis=1,inplace=True)"
   ]
  },
  {
   "cell_type": "markdown",
   "id": "fbda02cd-2004-4dc4-9057-bcf1eb0643d8",
   "metadata": {},
   "source": [
    "##### It is observed that there are missing values for columns driver id and drop timestamp, lets analyze those first\n",
    "##### * Assumption is driver id is null for all the rides which are 'No Cars Available' status\n",
    "##### * Drop time is null for all the records with 'Cancelled' status"
   ]
  },
  {
   "cell_type": "code",
   "execution_count": 16,
   "id": "0724182f-3a06-40d0-9c24-c836532fd094",
   "metadata": {},
   "outputs": [
    {
     "data": {
      "text/html": [
       "<div>\n",
       "<style scoped>\n",
       "    .dataframe tbody tr th:only-of-type {\n",
       "        vertical-align: middle;\n",
       "    }\n",
       "\n",
       "    .dataframe tbody tr th {\n",
       "        vertical-align: top;\n",
       "    }\n",
       "\n",
       "    .dataframe thead th {\n",
       "        text-align: right;\n",
       "    }\n",
       "</style>\n",
       "<table border=\"1\" class=\"dataframe\">\n",
       "  <thead>\n",
       "    <tr style=\"text-align: right;\">\n",
       "      <th></th>\n",
       "      <th>pickup_point</th>\n",
       "      <th>driver_id</th>\n",
       "      <th>request_timestamp</th>\n",
       "      <th>drop_timestamp</th>\n",
       "    </tr>\n",
       "    <tr>\n",
       "      <th>status</th>\n",
       "      <th></th>\n",
       "      <th></th>\n",
       "      <th></th>\n",
       "      <th></th>\n",
       "    </tr>\n",
       "  </thead>\n",
       "  <tbody>\n",
       "    <tr>\n",
       "      <th>Cancelled</th>\n",
       "      <td>1264</td>\n",
       "      <td>1264</td>\n",
       "      <td>1264</td>\n",
       "      <td>0</td>\n",
       "    </tr>\n",
       "    <tr>\n",
       "      <th>No Cars Available</th>\n",
       "      <td>2650</td>\n",
       "      <td>2650</td>\n",
       "      <td>2650</td>\n",
       "      <td>0</td>\n",
       "    </tr>\n",
       "    <tr>\n",
       "      <th>Trip Completed</th>\n",
       "      <td>2831</td>\n",
       "      <td>2831</td>\n",
       "      <td>2831</td>\n",
       "      <td>2831</td>\n",
       "    </tr>\n",
       "  </tbody>\n",
       "</table>\n",
       "</div>"
      ],
      "text/plain": [
       "                   pickup_point  driver_id  request_timestamp  drop_timestamp\n",
       "status                                                                       \n",
       "Cancelled                  1264       1264               1264               0\n",
       "No Cars Available          2650       2650               2650               0\n",
       "Trip Completed             2831       2831               2831            2831"
      ]
     },
     "execution_count": 16,
     "metadata": {},
     "output_type": "execute_result"
    }
   ],
   "source": [
    "df.groupby(['status']).count()"
   ]
  },
  {
   "cell_type": "markdown",
   "id": "13abe79b-d6d6-4e8c-a44f-763f14f9d43d",
   "metadata": {},
   "source": [
    "#### From the above table it is evident that the assumptions are correct and functionally we don't have any missing values"
   ]
  },
  {
   "cell_type": "markdown",
   "id": "ba1f1fc3-8074-4bfd-8f9a-961bd2076f8a",
   "metadata": {},
   "source": [
    "### Univariate Analysis"
   ]
  },
  {
   "cell_type": "code",
   "execution_count": 17,
   "id": "2200fbd4-7c38-474d-b986-83891633f2fa",
   "metadata": {},
   "outputs": [
    {
     "data": {
      "text/html": [
       "<div>\n",
       "<style scoped>\n",
       "    .dataframe tbody tr th:only-of-type {\n",
       "        vertical-align: middle;\n",
       "    }\n",
       "\n",
       "    .dataframe tbody tr th {\n",
       "        vertical-align: top;\n",
       "    }\n",
       "\n",
       "    .dataframe thead th {\n",
       "        text-align: right;\n",
       "    }\n",
       "</style>\n",
       "<table border=\"1\" class=\"dataframe\">\n",
       "  <thead>\n",
       "    <tr style=\"text-align: right;\">\n",
       "      <th></th>\n",
       "      <th>request_timestamp</th>\n",
       "      <th>drop_timestamp</th>\n",
       "    </tr>\n",
       "  </thead>\n",
       "  <tbody>\n",
       "    <tr>\n",
       "      <th>count</th>\n",
       "      <td>6745</td>\n",
       "      <td>2831</td>\n",
       "    </tr>\n",
       "    <tr>\n",
       "      <th>mean</th>\n",
       "      <td>2016-09-04 08:49:18.446849536</td>\n",
       "      <td>2016-09-05 17:03:26.523843072</td>\n",
       "    </tr>\n",
       "    <tr>\n",
       "      <th>min</th>\n",
       "      <td>2016-07-13 00:00:24</td>\n",
       "      <td>2016-07-13 00:01:12</td>\n",
       "    </tr>\n",
       "    <tr>\n",
       "      <th>25%</th>\n",
       "      <td>2016-07-14 07:38:26</td>\n",
       "      <td>2016-07-14 08:10:24.500000</td>\n",
       "    </tr>\n",
       "    <tr>\n",
       "      <th>50%</th>\n",
       "      <td>2016-07-15 13:44:15</td>\n",
       "      <td>2016-07-15 15:27:41</td>\n",
       "    </tr>\n",
       "    <tr>\n",
       "      <th>75%</th>\n",
       "      <td>2016-11-07 19:00:00</td>\n",
       "      <td>2016-11-07 19:25:30</td>\n",
       "    </tr>\n",
       "    <tr>\n",
       "      <th>max</th>\n",
       "      <td>2016-12-07 23:54:00</td>\n",
       "      <td>2016-12-07 23:45:00</td>\n",
       "    </tr>\n",
       "  </tbody>\n",
       "</table>\n",
       "</div>"
      ],
      "text/plain": [
       "                   request_timestamp                 drop_timestamp\n",
       "count                           6745                           2831\n",
       "mean   2016-09-04 08:49:18.446849536  2016-09-05 17:03:26.523843072\n",
       "min              2016-07-13 00:00:24            2016-07-13 00:01:12\n",
       "25%              2016-07-14 07:38:26     2016-07-14 08:10:24.500000\n",
       "50%              2016-07-15 13:44:15            2016-07-15 15:27:41\n",
       "75%              2016-11-07 19:00:00            2016-11-07 19:25:30\n",
       "max              2016-12-07 23:54:00            2016-12-07 23:45:00"
      ]
     },
     "execution_count": 17,
     "metadata": {},
     "output_type": "execute_result"
    }
   ],
   "source": [
    "df.describe()"
   ]
  },
  {
   "cell_type": "markdown",
   "id": "bbcbe36e-4ea9-4e74-90fb-8db506124890",
   "metadata": {},
   "source": [
    "##### It is clear that the driver ids are uniformly distributed thus we have almost equal number of rides or requests for all the 300 drivers."
   ]
  },
  {
   "cell_type": "code",
   "execution_count": 18,
   "id": "6492a0b8-f932-4522-bed2-84342dc905e6",
   "metadata": {},
   "outputs": [
    {
     "data": {
      "text/plain": [
       "status\n",
       "Trip Completed       41.971831\n",
       "No Cars Available    39.288362\n",
       "Cancelled            18.739807\n",
       "Name: count, dtype: float64"
      ]
     },
     "execution_count": 18,
     "metadata": {},
     "output_type": "execute_result"
    }
   ],
   "source": [
    "df.status.value_counts()*100/df.status.count()"
   ]
  },
  {
   "cell_type": "markdown",
   "id": "b4b591a8-1598-4f07-bd99-6ef42e39ca89",
   "metadata": {},
   "source": [
    "##### More than half of the requests are not getting fulfilled by uber."
   ]
  },
  {
   "cell_type": "code",
   "execution_count": 19,
   "id": "928b84f2-42de-4ca7-9b17-ca031e33e665",
   "metadata": {},
   "outputs": [],
   "source": [
    "#lets add some more columns for better understanding derived from timestamps\n",
    "df['r_date'] = df['request_timestamp'].dt.date\n",
    "df['r_time'] = df['request_timestamp'].dt.time\n",
    "df['d_date'] = df['drop_timestamp'].dt.date\n",
    "df['d_time'] = df['drop_timestamp'].dt.time\n",
    "df['r_hour'] = df['request_timestamp'].dt.hour.astype(int)\n",
    "day_of_week = {0:'Mon',1:'Tue',2:'Wed',3:'Thr',4:'Fri',5:'Sat',6:'Sun'}\n",
    "# define bins and labels\n",
    "bins = ['00:00:00', '03:00:00', '11:00:00','15:00:00', '17:00:00', '23:59:59']\n",
    "labels = ['Late Night', 'Early Morning', 'Mid-Day','Evening', 'Late Evening']\n",
    "df['dayofweek'] = df['request_timestamp'].dt.dayofweek.map(day_of_week)\n",
    "df['timeofday'] = pd.cut(pd.to_timedelta(df['request_timestamp'].dt.time.astype(str)), bins=pd.to_timedelta(bins), labels=labels, ordered=False)"
   ]
  },
  {
   "cell_type": "code",
   "execution_count": 20,
   "id": "3de90cc5-bc31-4c20-91d5-05008d798f25",
   "metadata": {},
   "outputs": [],
   "source": [
    "#drop the columns which are not required for analysis\n",
    "df.drop(['request_timestamp','drop_timestamp','d_time','r_time'],axis=1,inplace=True)"
   ]
  },
  {
   "cell_type": "code",
   "execution_count": 21,
   "id": "c267d82e-41bf-4331-b9c9-f0e7c4b34dd7",
   "metadata": {},
   "outputs": [
    {
     "data": {
      "text/html": [
       "<div>\n",
       "<style scoped>\n",
       "    .dataframe tbody tr th:only-of-type {\n",
       "        vertical-align: middle;\n",
       "    }\n",
       "\n",
       "    .dataframe tbody tr th {\n",
       "        vertical-align: top;\n",
       "    }\n",
       "\n",
       "    .dataframe thead th {\n",
       "        text-align: right;\n",
       "    }\n",
       "</style>\n",
       "<table border=\"1\" class=\"dataframe\">\n",
       "  <thead>\n",
       "    <tr style=\"text-align: right;\">\n",
       "      <th></th>\n",
       "      <th>pickup_point</th>\n",
       "      <th>driver_id</th>\n",
       "      <th>status</th>\n",
       "      <th>r_date</th>\n",
       "      <th>d_date</th>\n",
       "      <th>r_hour</th>\n",
       "      <th>dayofweek</th>\n",
       "      <th>timeofday</th>\n",
       "    </tr>\n",
       "  </thead>\n",
       "  <tbody>\n",
       "    <tr>\n",
       "      <th>0</th>\n",
       "      <td>Airport</td>\n",
       "      <td>1.0</td>\n",
       "      <td>Trip Completed</td>\n",
       "      <td>2016-11-07</td>\n",
       "      <td>2016-11-07</td>\n",
       "      <td>11</td>\n",
       "      <td>Mon</td>\n",
       "      <td>Mid-Day</td>\n",
       "    </tr>\n",
       "    <tr>\n",
       "      <th>1</th>\n",
       "      <td>Airport</td>\n",
       "      <td>1.0</td>\n",
       "      <td>Trip Completed</td>\n",
       "      <td>2016-11-07</td>\n",
       "      <td>2016-11-07</td>\n",
       "      <td>17</td>\n",
       "      <td>Mon</td>\n",
       "      <td>Late Evening</td>\n",
       "    </tr>\n",
       "    <tr>\n",
       "      <th>2</th>\n",
       "      <td>City</td>\n",
       "      <td>1.0</td>\n",
       "      <td>Trip Completed</td>\n",
       "      <td>2016-12-07</td>\n",
       "      <td>2016-12-07</td>\n",
       "      <td>9</td>\n",
       "      <td>Wed</td>\n",
       "      <td>Early Morning</td>\n",
       "    </tr>\n",
       "    <tr>\n",
       "      <th>3</th>\n",
       "      <td>Airport</td>\n",
       "      <td>1.0</td>\n",
       "      <td>Trip Completed</td>\n",
       "      <td>2016-12-07</td>\n",
       "      <td>2016-12-07</td>\n",
       "      <td>21</td>\n",
       "      <td>Wed</td>\n",
       "      <td>Late Evening</td>\n",
       "    </tr>\n",
       "    <tr>\n",
       "      <th>4</th>\n",
       "      <td>City</td>\n",
       "      <td>1.0</td>\n",
       "      <td>Trip Completed</td>\n",
       "      <td>2016-07-13</td>\n",
       "      <td>2016-07-13</td>\n",
       "      <td>8</td>\n",
       "      <td>Wed</td>\n",
       "      <td>Early Morning</td>\n",
       "    </tr>\n",
       "  </tbody>\n",
       "</table>\n",
       "</div>"
      ],
      "text/plain": [
       "  pickup_point driver_id          status      r_date      d_date  r_hour  \\\n",
       "0      Airport       1.0  Trip Completed  2016-11-07  2016-11-07      11   \n",
       "1      Airport       1.0  Trip Completed  2016-11-07  2016-11-07      17   \n",
       "2         City       1.0  Trip Completed  2016-12-07  2016-12-07       9   \n",
       "3      Airport       1.0  Trip Completed  2016-12-07  2016-12-07      21   \n",
       "4         City       1.0  Trip Completed  2016-07-13  2016-07-13       8   \n",
       "\n",
       "  dayofweek      timeofday  \n",
       "0       Mon        Mid-Day  \n",
       "1       Mon   Late Evening  \n",
       "2       Wed  Early Morning  \n",
       "3       Wed   Late Evening  \n",
       "4       Wed  Early Morning  "
      ]
     },
     "execution_count": 21,
     "metadata": {},
     "output_type": "execute_result"
    }
   ],
   "source": [
    "df.head()"
   ]
  },
  {
   "cell_type": "markdown",
   "id": "43071ef6-aca3-43aa-9b24-0e8fd1f310b0",
   "metadata": {},
   "source": [
    "##### We have derived some new columns i.e r_date,d_date, dayofweek and timeofday"
   ]
  },
  {
   "cell_type": "markdown",
   "id": "98901e34-d014-47df-be7a-d85d6963a80f",
   "metadata": {},
   "source": [
    "#### Now, our focus shifts to trips that remain unfinished. Let's conduct a detailed investigation to uncover any underlying issues"
   ]
  },
  {
   "cell_type": "code",
   "execution_count": 22,
   "id": "9d510758-0ff5-428d-adc7-90971e3683ca",
   "metadata": {},
   "outputs": [
    {
     "data": {
      "text/plain": [
       "6745"
      ]
     },
     "execution_count": 22,
     "metadata": {},
     "output_type": "execute_result"
    }
   ],
   "source": [
    "df_new = df[df['status']!='trip_completed']\n",
    "len(df_new)"
   ]
  },
  {
   "cell_type": "code",
   "execution_count": 23,
   "id": "d9916ecc-23bd-4868-bf3a-9af4193af057",
   "metadata": {},
   "outputs": [
    {
     "data": {
      "image/png": "[encoded data removed]",
      "text/plain": [
       "<Figure size 640x480 with 1 Axes>"
      ]
     },
     "metadata": {},
     "output_type": "display_data"
    }
   ],
   "source": [
    "#by pickup points\n",
    "df_temp = df_new.groupby(['status','pickup_point']).agg({'r_date':'count'}).reset_index(level=1)\n",
    "pd.pivot_table(df_temp, values ='pickup_point',index=['pickup_point'],columns =['status']).plot(kind='bar',stacked=True)\n",
    "plt.show()"
   ]
  },
  {
   "cell_type": "code",
   "execution_count": 24,
   "id": "38ce395c-7356-436a-ae48-68e8a44a9def",
   "metadata": {},
   "outputs": [
    {
     "data": {
      "text/html": [
       "<div>\n",
       "<style scoped>\n",
       "    .dataframe tbody tr th:only-of-type {\n",
       "        vertical-align: middle;\n",
       "    }\n",
       "\n",
       "    .dataframe tbody tr th {\n",
       "        vertical-align: top;\n",
       "    }\n",
       "\n",
       "    .dataframe thead th {\n",
       "        text-align: right;\n",
       "    }\n",
       "</style>\n",
       "<table border=\"1\" class=\"dataframe\">\n",
       "  <thead>\n",
       "    <tr style=\"text-align: right;\">\n",
       "      <th></th>\n",
       "      <th>pickup_point</th>\n",
       "      <th>r_date</th>\n",
       "    </tr>\n",
       "    <tr>\n",
       "      <th>status</th>\n",
       "      <th></th>\n",
       "      <th></th>\n",
       "    </tr>\n",
       "  </thead>\n",
       "  <tbody>\n",
       "    <tr>\n",
       "      <th>Cancelled</th>\n",
       "      <td>Airport</td>\n",
       "      <td>198</td>\n",
       "    </tr>\n",
       "    <tr>\n",
       "      <th>Cancelled</th>\n",
       "      <td>City</td>\n",
       "      <td>1066</td>\n",
       "    </tr>\n",
       "    <tr>\n",
       "      <th>No Cars Available</th>\n",
       "      <td>Airport</td>\n",
       "      <td>1713</td>\n",
       "    </tr>\n",
       "    <tr>\n",
       "      <th>No Cars Available</th>\n",
       "      <td>City</td>\n",
       "      <td>937</td>\n",
       "    </tr>\n",
       "    <tr>\n",
       "      <th>Trip Completed</th>\n",
       "      <td>Airport</td>\n",
       "      <td>1327</td>\n",
       "    </tr>\n",
       "    <tr>\n",
       "      <th>Trip Completed</th>\n",
       "      <td>City</td>\n",
       "      <td>1504</td>\n",
       "    </tr>\n",
       "  </tbody>\n",
       "</table>\n",
       "</div>"
      ],
      "text/plain": [
       "                  pickup_point  r_date\n",
       "status                                \n",
       "Cancelled              Airport     198\n",
       "Cancelled                 City    1066\n",
       "No Cars Available      Airport    1713\n",
       "No Cars Available         City     937\n",
       "Trip Completed         Airport    1327\n",
       "Trip Completed            City    1504"
      ]
     },
     "metadata": {},
     "output_type": "display_data"
    }
   ],
   "source": [
    "display(df_temp)"
   ]
  },
  {
   "cell_type": "markdown",
   "id": "e795ec35-ed51-41f2-85d2-28ca00bba095",
   "metadata": {},
   "source": [
    "#### Observations\n",
    "##### 1. There are more cancelled trips when rides are from City to Airport\n",
    "##### 2. There are more Not cabs found, when rides are from Airport to City"
   ]
  },
  {
   "cell_type": "code",
   "execution_count": 25,
   "id": "04821e7d-520a-4412-aa4c-401d69310a9d",
   "metadata": {},
   "outputs": [
    {
     "data": {
      "image/png": "[encoded data removed]",
      "text/plain": [
       "<Figure size 640x480 with 1 Axes>"
      ]
     },
     "metadata": {},
     "output_type": "display_data"
    }
   ],
   "source": [
    "#by dayofweek\n",
    "df_temp = df_new.groupby(['status','dayofweek']).agg({'r_date':'count'}).reset_index(level=1)\n",
    "pd.pivot_table(df_temp, values ='dayofweek',index=['dayofweek'],columns =['status']).plot(kind='bar',stacked=True)\n",
    "plt.show()"
   ]
  },
  {
   "cell_type": "markdown",
   "id": "a56d516c-c839-4df4-adbb-0a5ef69f0d65",
   "metadata": {},
   "source": [
    "##### Finally, we've discovered a significant increase in cancellations and unavailability of cabs specifically on Wednesdays."
   ]
  },
  {
   "cell_type": "markdown",
   "id": "580174a7-e1ca-4607-a823-db932fc5a62c",
   "metadata": {},
   "source": [
    "#### Let's analyze ride requests specifically for Wednesdays, focusing on trips that were not successfully completed, in order to gain valuable insights."
   ]
  },
  {
   "cell_type": "code",
   "execution_count": 26,
   "id": "beaef852-c687-496c-b157-d16db3cd594a",
   "metadata": {},
   "outputs": [
    {
     "data": {
      "image/png": "[encoded data removed]",
      "text/plain": [
       "<Figure size 640x480 with 1 Axes>"
      ]
     },
     "metadata": {},
     "output_type": "display_data"
    }
   ],
   "source": [
    "#by timeofday\n",
    "df_temp = df_new.groupby(['status','timeofday']).agg({'r_date':'count'}).reset_index(level=1)\n",
    "pd.pivot_table(df_temp, values ='timeofday',index=['timeofday'],columns =['status']).plot(kind='bar',stacked=True)\n",
    "plt.show()"
   ]
  },
  {
   "cell_type": "markdown",
   "id": "fa2005ee-c47d-4cdd-9587-eee6c5ec5734",
   "metadata": {},
   "source": [
    "#### Clearly, early morning and late evenings should be our area of concerns which needs more detailing further.\n",
    "##### 1. Late evenings(5 PM - 12 AM), we have a surge in no cars available\n",
    "##### 2. Early mornings(3 AM - 11 AM), cancellation is more than no cars available"
   ]
  },
  {
   "cell_type": "markdown",
   "id": "c338ce5a-2817-4ce4-9e80-7918dbc80101",
   "metadata": {},
   "source": [
    "#### Findings by Univariate analysis\n",
    "##### 1. Approx 60% of the rides are not being completed. It is a pressing issue for business\n",
    "##### 2. Rides from airport to city suffers from 'No cars Available' more than city to airport\n",
    "##### 3. As per the provided sample, it seems there is something happening on wednesday. It needs more attention\n",
    "##### 4. Late evenings(5 PM - 12 AM), we have a surge in no cars available\n",
    "##### 5. Early mornings(3 AM - 11 AM), cancellation is more than no cars available"
   ]
  },
  {
   "cell_type": "code",
   "execution_count": null,
   "id": "357574d7-e692-4e35-892a-2cff02ccd49e",
   "metadata": {},
   "outputs": [],
   "source": []
  },
  {
   "cell_type": "markdown",
   "id": "ca2649e7-5767-4463-a210-f94b4c3df450",
   "metadata": {},
   "source": [
    "#### Bivariate Analysis"
   ]
  },
  {
   "cell_type": "code",
   "execution_count": 27,
   "id": "be8c460d-a8b7-4a2b-bf7e-83b2a47b251a",
   "metadata": {},
   "outputs": [
    {
     "data": {
      "text/html": [
       "<div>\n",
       "<style scoped>\n",
       "    .dataframe tbody tr th:only-of-type {\n",
       "        vertical-align: middle;\n",
       "    }\n",
       "\n",
       "    .dataframe tbody tr th {\n",
       "        vertical-align: top;\n",
       "    }\n",
       "\n",
       "    .dataframe thead th {\n",
       "        text-align: right;\n",
       "    }\n",
       "</style>\n",
       "<table border=\"1\" class=\"dataframe\">\n",
       "  <thead>\n",
       "    <tr style=\"text-align: right;\">\n",
       "      <th></th>\n",
       "      <th></th>\n",
       "      <th>dayofweek</th>\n",
       "      <th>r_date</th>\n",
       "    </tr>\n",
       "    <tr>\n",
       "      <th>status</th>\n",
       "      <th>pickup_point</th>\n",
       "      <th></th>\n",
       "      <th></th>\n",
       "    </tr>\n",
       "  </thead>\n",
       "  <tbody>\n",
       "    <tr>\n",
       "      <th>No Cars Available</th>\n",
       "      <th>Airport</th>\n",
       "      <td>Wed</td>\n",
       "      <td>667</td>\n",
       "    </tr>\n",
       "    <tr>\n",
       "      <th rowspan=\"2\" valign=\"top\">Trip Completed</th>\n",
       "      <th>Airport</th>\n",
       "      <td>Wed</td>\n",
       "      <td>587</td>\n",
       "    </tr>\n",
       "    <tr>\n",
       "      <th>City</th>\n",
       "      <td>Wed</td>\n",
       "      <td>552</td>\n",
       "    </tr>\n",
       "    <tr>\n",
       "      <th>Cancelled</th>\n",
       "      <th>City</th>\n",
       "      <td>Wed</td>\n",
       "      <td>417</td>\n",
       "    </tr>\n",
       "    <tr>\n",
       "      <th>No Cars Available</th>\n",
       "      <th>Airport</th>\n",
       "      <td>Thr</td>\n",
       "      <td>378</td>\n",
       "    </tr>\n",
       "    <tr>\n",
       "      <th>Trip Completed</th>\n",
       "      <th>City</th>\n",
       "      <td>Thr</td>\n",
       "      <td>339</td>\n",
       "    </tr>\n",
       "    <tr>\n",
       "      <th rowspan=\"3\" valign=\"top\">No Cars Available</th>\n",
       "      <th>Airport</th>\n",
       "      <td>Mon</td>\n",
       "      <td>338</td>\n",
       "    </tr>\n",
       "    <tr>\n",
       "      <th>Airport</th>\n",
       "      <td>Fri</td>\n",
       "      <td>330</td>\n",
       "    </tr>\n",
       "    <tr>\n",
       "      <th>City</th>\n",
       "      <td>Wed</td>\n",
       "      <td>328</td>\n",
       "    </tr>\n",
       "    <tr>\n",
       "      <th rowspan=\"4\" valign=\"top\">Trip Completed</th>\n",
       "      <th>City</th>\n",
       "      <td>Mon</td>\n",
       "      <td>320</td>\n",
       "    </tr>\n",
       "    <tr>\n",
       "      <th>City</th>\n",
       "      <td>Fri</td>\n",
       "      <td>293</td>\n",
       "    </tr>\n",
       "    <tr>\n",
       "      <th>Airport</th>\n",
       "      <td>Mon</td>\n",
       "      <td>281</td>\n",
       "    </tr>\n",
       "    <tr>\n",
       "      <th>Airport</th>\n",
       "      <td>Fri</td>\n",
       "      <td>268</td>\n",
       "    </tr>\n",
       "    <tr>\n",
       "      <th>No Cars Available</th>\n",
       "      <th>City</th>\n",
       "      <td>Fri</td>\n",
       "      <td>250</td>\n",
       "    </tr>\n",
       "    <tr>\n",
       "      <th rowspan=\"3\" valign=\"top\">Cancelled</th>\n",
       "      <th>City</th>\n",
       "      <td>Mon</td>\n",
       "      <td>220</td>\n",
       "    </tr>\n",
       "    <tr>\n",
       "      <th>City</th>\n",
       "      <td>Thr</td>\n",
       "      <td>220</td>\n",
       "    </tr>\n",
       "    <tr>\n",
       "      <th>City</th>\n",
       "      <td>Fri</td>\n",
       "      <td>209</td>\n",
       "    </tr>\n",
       "    <tr>\n",
       "      <th>No Cars Available</th>\n",
       "      <th>City</th>\n",
       "      <td>Thr</td>\n",
       "      <td>193</td>\n",
       "    </tr>\n",
       "    <tr>\n",
       "      <th>Trip Completed</th>\n",
       "      <th>Airport</th>\n",
       "      <td>Thr</td>\n",
       "      <td>191</td>\n",
       "    </tr>\n",
       "    <tr>\n",
       "      <th>No Cars Available</th>\n",
       "      <th>City</th>\n",
       "      <td>Mon</td>\n",
       "      <td>166</td>\n",
       "    </tr>\n",
       "    <tr>\n",
       "      <th rowspan=\"4\" valign=\"top\">Cancelled</th>\n",
       "      <th>Airport</th>\n",
       "      <td>Wed</td>\n",
       "      <td>93</td>\n",
       "    </tr>\n",
       "    <tr>\n",
       "      <th>Airport</th>\n",
       "      <td>Mon</td>\n",
       "      <td>42</td>\n",
       "    </tr>\n",
       "    <tr>\n",
       "      <th>Airport</th>\n",
       "      <td>Thr</td>\n",
       "      <td>32</td>\n",
       "    </tr>\n",
       "    <tr>\n",
       "      <th>Airport</th>\n",
       "      <td>Fri</td>\n",
       "      <td>31</td>\n",
       "    </tr>\n",
       "  </tbody>\n",
       "</table>\n",
       "</div>"
      ],
      "text/plain": [
       "                               dayofweek  r_date\n",
       "status            pickup_point                  \n",
       "No Cars Available Airport            Wed     667\n",
       "Trip Completed    Airport            Wed     587\n",
       "                  City               Wed     552\n",
       "Cancelled         City               Wed     417\n",
       "No Cars Available Airport            Thr     378\n",
       "Trip Completed    City               Thr     339\n",
       "No Cars Available Airport            Mon     338\n",
       "                  Airport            Fri     330\n",
       "                  City               Wed     328\n",
       "Trip Completed    City               Mon     320\n",
       "                  City               Fri     293\n",
       "                  Airport            Mon     281\n",
       "                  Airport            Fri     268\n",
       "No Cars Available City               Fri     250\n",
       "Cancelled         City               Mon     220\n",
       "                  City               Thr     220\n",
       "                  City               Fri     209\n",
       "No Cars Available City               Thr     193\n",
       "Trip Completed    Airport            Thr     191\n",
       "No Cars Available City               Mon     166\n",
       "Cancelled         Airport            Wed      93\n",
       "                  Airport            Mon      42\n",
       "                  Airport            Thr      32\n",
       "                  Airport            Fri      31"
      ]
     },
     "execution_count": 27,
     "metadata": {},
     "output_type": "execute_result"
    }
   ],
   "source": [
    "# lets validate our finding number 2\n",
    "df_temp = df_new.groupby(['dayofweek','status','pickup_point']).agg({'r_date':'count'}).reset_index(level=0)\n",
    "df_temp.sort_values('r_date',ascending=False)"
   ]
  },
  {
   "cell_type": "code",
   "execution_count": 28,
   "id": "6ac90b99-400b-4add-bfa0-780218e994d9",
   "metadata": {},
   "outputs": [
    {
     "data": {
      "text/html": [
       "<div>\n",
       "<style scoped>\n",
       "    .dataframe tbody tr th:only-of-type {\n",
       "        vertical-align: middle;\n",
       "    }\n",
       "\n",
       "    .dataframe tbody tr th {\n",
       "        vertical-align: top;\n",
       "    }\n",
       "\n",
       "    .dataframe thead th {\n",
       "        text-align: right;\n",
       "    }\n",
       "</style>\n",
       "<table border=\"1\" class=\"dataframe\">\n",
       "  <thead>\n",
       "    <tr style=\"text-align: right;\">\n",
       "      <th></th>\n",
       "      <th></th>\n",
       "      <th>timeofday</th>\n",
       "      <th>r_date</th>\n",
       "    </tr>\n",
       "    <tr>\n",
       "      <th>status</th>\n",
       "      <th>pickup_point</th>\n",
       "      <th></th>\n",
       "      <th></th>\n",
       "    </tr>\n",
       "  </thead>\n",
       "  <tbody>\n",
       "    <tr>\n",
       "      <th>No Cars Available</th>\n",
       "      <th>Airport</th>\n",
       "      <td>Late Evening</td>\n",
       "      <td>1457</td>\n",
       "    </tr>\n",
       "    <tr>\n",
       "      <th>Cancelled</th>\n",
       "      <th>City</th>\n",
       "      <td>Early Morning</td>\n",
       "      <td>924</td>\n",
       "    </tr>\n",
       "    <tr>\n",
       "      <th rowspan=\"3\" valign=\"top\">Trip Completed</th>\n",
       "      <th>City</th>\n",
       "      <td>Early Morning</td>\n",
       "      <td>597</td>\n",
       "    </tr>\n",
       "    <tr>\n",
       "      <th>City</th>\n",
       "      <td>Late Evening</td>\n",
       "      <td>526</td>\n",
       "    </tr>\n",
       "    <tr>\n",
       "      <th>Airport</th>\n",
       "      <td>Late Evening</td>\n",
       "      <td>515</td>\n",
       "    </tr>\n",
       "    <tr>\n",
       "      <th>No Cars Available</th>\n",
       "      <th>City</th>\n",
       "      <td>Early Morning</td>\n",
       "      <td>503</td>\n",
       "    </tr>\n",
       "    <tr>\n",
       "      <th rowspan=\"3\" valign=\"top\">Trip Completed</th>\n",
       "      <th>Airport</th>\n",
       "      <td>Early Morning</td>\n",
       "      <td>486</td>\n",
       "    </tr>\n",
       "    <tr>\n",
       "      <th>City</th>\n",
       "      <td>Mid-Day</td>\n",
       "      <td>228</td>\n",
       "    </tr>\n",
       "    <tr>\n",
       "      <th>Airport</th>\n",
       "      <td>Mid-Day</td>\n",
       "      <td>186</td>\n",
       "    </tr>\n",
       "    <tr>\n",
       "      <th rowspan=\"2\" valign=\"top\">No Cars Available</th>\n",
       "      <th>City</th>\n",
       "      <td>Late Evening</td>\n",
       "      <td>154</td>\n",
       "    </tr>\n",
       "    <tr>\n",
       "      <th>City</th>\n",
       "      <td>Mid-Day</td>\n",
       "      <td>123</td>\n",
       "    </tr>\n",
       "    <tr>\n",
       "      <th>Cancelled</th>\n",
       "      <th>Airport</th>\n",
       "      <td>Late Evening</td>\n",
       "      <td>109</td>\n",
       "    </tr>\n",
       "    <tr>\n",
       "      <th>Trip Completed</th>\n",
       "      <th>City</th>\n",
       "      <td>Evening</td>\n",
       "      <td>103</td>\n",
       "    </tr>\n",
       "    <tr>\n",
       "      <th>No Cars Available</th>\n",
       "      <th>Airport</th>\n",
       "      <td>Early Morning</td>\n",
       "      <td>99</td>\n",
       "    </tr>\n",
       "    <tr>\n",
       "      <th>Trip Completed</th>\n",
       "      <th>Airport</th>\n",
       "      <td>Evening</td>\n",
       "      <td>88</td>\n",
       "    </tr>\n",
       "    <tr>\n",
       "      <th rowspan=\"2\" valign=\"top\">No Cars Available</th>\n",
       "      <th>City</th>\n",
       "      <td>Late Night</td>\n",
       "      <td>85</td>\n",
       "    </tr>\n",
       "    <tr>\n",
       "      <th>Airport</th>\n",
       "      <td>Late Night</td>\n",
       "      <td>84</td>\n",
       "    </tr>\n",
       "    <tr>\n",
       "      <th>Cancelled</th>\n",
       "      <th>City</th>\n",
       "      <td>Late Evening</td>\n",
       "      <td>79</td>\n",
       "    </tr>\n",
       "    <tr>\n",
       "      <th>No Cars Available</th>\n",
       "      <th>City</th>\n",
       "      <td>Evening</td>\n",
       "      <td>72</td>\n",
       "    </tr>\n",
       "    <tr>\n",
       "      <th>Trip Completed</th>\n",
       "      <th>Airport</th>\n",
       "      <td>Late Night</td>\n",
       "      <td>51</td>\n",
       "    </tr>\n",
       "    <tr>\n",
       "      <th>No Cars Available</th>\n",
       "      <th>Airport</th>\n",
       "      <td>Mid-Day</td>\n",
       "      <td>51</td>\n",
       "    </tr>\n",
       "    <tr>\n",
       "      <th>Trip Completed</th>\n",
       "      <th>City</th>\n",
       "      <td>Late Night</td>\n",
       "      <td>50</td>\n",
       "    </tr>\n",
       "    <tr>\n",
       "      <th rowspan=\"4\" valign=\"top\">Cancelled</th>\n",
       "      <th>Airport</th>\n",
       "      <td>Early Morning</td>\n",
       "      <td>34</td>\n",
       "    </tr>\n",
       "    <tr>\n",
       "      <th>City</th>\n",
       "      <td>Mid-Day</td>\n",
       "      <td>33</td>\n",
       "    </tr>\n",
       "    <tr>\n",
       "      <th>Airport</th>\n",
       "      <td>Mid-Day</td>\n",
       "      <td>30</td>\n",
       "    </tr>\n",
       "    <tr>\n",
       "      <th>Airport</th>\n",
       "      <td>Evening</td>\n",
       "      <td>25</td>\n",
       "    </tr>\n",
       "    <tr>\n",
       "      <th>No Cars Available</th>\n",
       "      <th>Airport</th>\n",
       "      <td>Evening</td>\n",
       "      <td>22</td>\n",
       "    </tr>\n",
       "    <tr>\n",
       "      <th rowspan=\"3\" valign=\"top\">Cancelled</th>\n",
       "      <th>City</th>\n",
       "      <td>Evening</td>\n",
       "      <td>18</td>\n",
       "    </tr>\n",
       "    <tr>\n",
       "      <th>City</th>\n",
       "      <td>Late Night</td>\n",
       "      <td>12</td>\n",
       "    </tr>\n",
       "    <tr>\n",
       "      <th>Airport</th>\n",
       "      <td>Late Night</td>\n",
       "      <td>0</td>\n",
       "    </tr>\n",
       "  </tbody>\n",
       "</table>\n",
       "</div>"
      ],
      "text/plain": [
       "                                    timeofday  r_date\n",
       "status            pickup_point                       \n",
       "No Cars Available Airport        Late Evening    1457\n",
       "Cancelled         City          Early Morning     924\n",
       "Trip Completed    City          Early Morning     597\n",
       "                  City           Late Evening     526\n",
       "                  Airport        Late Evening     515\n",
       "No Cars Available City          Early Morning     503\n",
       "Trip Completed    Airport       Early Morning     486\n",
       "                  City                Mid-Day     228\n",
       "                  Airport             Mid-Day     186\n",
       "No Cars Available City           Late Evening     154\n",
       "                  City                Mid-Day     123\n",
       "Cancelled         Airport        Late Evening     109\n",
       "Trip Completed    City                Evening     103\n",
       "No Cars Available Airport       Early Morning      99\n",
       "Trip Completed    Airport             Evening      88\n",
       "No Cars Available City             Late Night      85\n",
       "                  Airport          Late Night      84\n",
       "Cancelled         City           Late Evening      79\n",
       "No Cars Available City                Evening      72\n",
       "Trip Completed    Airport          Late Night      51\n",
       "No Cars Available Airport             Mid-Day      51\n",
       "Trip Completed    City             Late Night      50\n",
       "Cancelled         Airport       Early Morning      34\n",
       "                  City                Mid-Day      33\n",
       "                  Airport             Mid-Day      30\n",
       "                  Airport             Evening      25\n",
       "No Cars Available Airport             Evening      22\n",
       "Cancelled         City                Evening      18\n",
       "                  City             Late Night      12\n",
       "                  Airport          Late Night       0"
      ]
     },
     "execution_count": 28,
     "metadata": {},
     "output_type": "execute_result"
    }
   ],
   "source": [
    "#lets validate our finding number 2\n",
    "df_temp = df_new.groupby(['timeofday','status','pickup_point']).agg({'r_date':'count'}).reset_index(level=0)\n",
    "df_temp.sort_values('r_date',ascending=False)"
   ]
  },
  {
   "cell_type": "code",
   "execution_count": 29,
   "id": "508d897b-e1c2-440b-b220-d59b87ad8ad1",
   "metadata": {},
   "outputs": [
    {
     "data": {
      "image/png": "[encoded data removed]",
      "text/plain": [
       "<Figure size 1500x700 with 1 Axes>"
      ]
     },
     "metadata": {},
     "output_type": "display_data"
    }
   ],
   "source": [
    "plt.figure(figsize=(15,7)) \n",
    "plt.xticks(np.arange(0, 23, 1.0))\n",
    "keys = list(range(0,24))\n",
    "df_new[df_new['dayofweek']=='Wed']['r_hour'].value_counts().sort_index().plot()\n",
    "plt.show()"
   ]
  },
  {
   "cell_type": "markdown",
   "id": "deafe5db-faca-4850-bb23-8deab2d7a596",
   "metadata": {},
   "source": [
    "##### The graph clearly illustrates that on Wednesdays, there is a noticeable surge in 'Cabs not available' and 'Cancelled' ride incidents during two key time periods: from 3 AM to 11 AM and from 4 PM to 12 AM"
   ]
  },
  {
   "cell_type": "markdown",
   "id": "29e2c904-3bc6-402e-bb0a-afc81a9a78c1",
   "metadata": {},
   "source": [
    "#### Key Recommendations:\n",
    "\n",
    "##### 1. Increase Supply on Wednesdays and Late Evenings:\n",
    "###### Address the issue of 'No Cabs Available' on Wednesdays and during late evening hours by boosting ride supply. The data shows peak 'Cabs not available' and 'Cancelled' rides between 3 AM - 11 AM and 4 PM - 12 AM.\n",
    "##### 2. Mitigate Early Morning Cancellations to the Airport:\n",
    "###### To tackle early morning ride cancellations from the city to the airport, investigate and address the reasons behind driver reluctance. This may include incentivizing return trips for drivers in the morning.\n",
    "##### 3. Leverage Flight Schedules on Wednesdays:\n",
    "###### Explore opportunities to meet the high demand on Wednesdays during early mornings and late nights, potentially linked to flight schedules. Analyze data to pinpoint specific high-demand timeframes and consider offering bonuses or incentives to drivers for airport-to-city and city-to-airport trips during those hours."
   ]
  },
  {
   "cell_type": "code",
   "execution_count": null,
   "id": "02b32f54-951f-4c4d-8803-85278ff31096",
   "metadata": {},
   "outputs": [],
   "source": []
  }
 ],
 "metadata": {
  "kernelspec": {
   "display_name": "Python 3 (ipykernel)",
   "language": "python",
   "name": "python3"
  },
  "language_info": {
   "codemirror_mode": {
    "name": "ipython",
    "version": 3
   },
   "file_extension": ".py",
   "mimetype": "text/x-python",
   "name": "python",
   "nbconvert_exporter": "python",
   "pygments_lexer": "ipython3",
   "version": "3.9.6"
  }
 },
 "nbformat": 4,
 "nbformat_minor": 5
}
